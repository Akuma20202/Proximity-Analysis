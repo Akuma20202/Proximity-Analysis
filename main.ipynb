{
 "cells": [
  {
   "cell_type": "code",
   "execution_count": 5,
   "metadata": {},
   "outputs": [
    {
     "name": "stdout",
     "output_type": "stream",
     "text": [
      "cuda\n"
     ]
    }
   ],
   "source": [
    "# Spleen Proximity project\n",
    "import SimpleITK as sitk\n",
    "import torch\n",
    "import matplotlib.pyplot as plt\n",
    "import tempfile\n",
    "import shutil\n",
    "import os\n",
    "import glob\n",
    "import numpy as np\n",
    "import monai\n",
    "import random\n",
    "\n",
    "from monai.utils import first, set_determinism\n",
    "from monai.transforms import (\n",
    "    Activations,\n",
    "    CenterSpatialCrop,\n",
    "    EnsureChannelFirst,\n",
    "    RandRotate90,\n",
    "    Resize,\n",
    "    ResizeWithPadOrCrop,\n",
    "    AsDiscrete,\n",
    "    Compose,\n",
    "    LoadImage,\n",
    "    RandFlip,\n",
    "    RandRotate,\n",
    "    RandZoom,\n",
    "    RandAdjustContrast,\n",
    "    RandShiftIntensity,\n",
    "    RandScaleIntensity,\n",
    "    RandHistogramShift,\n",
    "    ScaleIntensity,\n",
    "    ScaleIntensityRange,\n",
    "    AsDiscrete,\n",
    "    Activationsd,\n",
    "    AsDiscreted,\n",
    "    EnsureChannelFirstd,\n",
    "    Compose,\n",
    "    CropForegroundd,\n",
    "    Crop,\n",
    "    LoadImaged,\n",
    "    Orientationd,\n",
    "    RandCropByPosNegLabeld,\n",
    "    SaveImaged,\n",
    "    ScaleIntensity,\n",
    "    ScaleIntensityRanged,\n",
    "    ScaleIntensityRangePercentiles,\n",
    "    SpatialCrop,\n",
    "    ThresholdIntensity,\n",
    "    Spacingd,\n",
    "    Invertd,\n",
    "    Spacing\n",
    ")\n",
    "from monai.handlers.utils import from_engine\n",
    "from monai.networks.nets import UNet\n",
    "from monai.networks.layers import Norm\n",
    "from monai.metrics import DiceMetric\n",
    "from monai.losses import DiceLoss\n",
    "from monai.inferers import sliding_window_inference\n",
    "from monai.data import CacheDataset, DataLoader, Dataset, decollate_batch, ImageDataset, DistributedWeightedRandomSampler\n",
    "from monai.config import print_config\n",
    "from monai.apps import download_and_extract\n",
    "from sklearn.metrics import balanced_accuracy_score\n",
    "\n",
    "pin_memory = torch.cuda.is_available()\n",
    "device = torch.device(\"cuda\" if torch.cuda.is_available() else \"cpu\")\n",
    "print(device)"
   ]
  },
  {
   "cell_type": "code",
   "execution_count": 7,
   "metadata": {},
   "outputs": [
    {
     "name": "stdout",
     "output_type": "stream",
     "text": [
      "Total image count: 1216\n",
      "Label names: ['AAST13_old', 'AAST45_old', 'negative_old']\n",
      "Label counts: [455, 153, 608]\n"
     ]
    }
   ],
   "source": [
    "# path to dataset folder\n",
    "data_dir = '/home/mohammad/projects/ErrolProjects/spleen/dataNifti/abnormal/cropped_segmentor/'\n",
    "class_names = sorted(x for x in os.listdir(data_dir)\n",
    "                     if os.path.isdir(os.path.join(data_dir, x)))\n",
    "class_names = ['AAST13_old', 'AAST45_old', 'negative_old']\n",
    "num_class = len(class_names)\n",
    "image_files = [\n",
    "    [\n",
    "        os.path.join(data_dir, class_names[i], x)\n",
    "        for x in random.Random(0).sample(os.listdir(os.path.join(data_dir, class_names[i])), min(608, len(os.listdir(os.path.join(data_dir, class_names[i])))))\n",
    "    ]\n",
    "    for i in range(num_class)\n",
    "]\n",
    "\n",
    "num_each = [len(image_files[i]) for i in range(num_class)]\n",
    "image_files_list = []\n",
    "image_class = []\n",
    "for i in range(num_class):\n",
    "    image_files_list.extend(image_files[i])\n",
    "    image_class.extend([i] * num_each[i])\n",
    "num_total = len(image_class)\n",
    "\n",
    "\n",
    "print(f\"Total image count: {num_total}\")\n",
    "print(f\"Label names: {class_names}\")\n",
    "print(f\"Label counts: {num_each}\")"
   ]
  }
 ],
 "metadata": {
  "kernelspec": {
   "display_name": "monai",
   "language": "python",
   "name": "monai"
  },
  "language_info": {
   "codemirror_mode": {
    "name": "ipython",
    "version": 3
   },
   "file_extension": ".py",
   "mimetype": "text/x-python",
   "name": "python",
   "nbconvert_exporter": "python",
   "pygments_lexer": "ipython3",
   "version": "3.9.12"
  }
 },
 "nbformat": 4,
 "nbformat_minor": 2
}
